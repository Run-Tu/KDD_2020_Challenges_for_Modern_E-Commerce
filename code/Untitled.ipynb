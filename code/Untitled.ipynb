{
 "cells": [
  {
   "cell_type": "code",
   "execution_count": 3,
   "metadata": {},
   "outputs": [
    {
     "name": "stdout",
     "output_type": "stream",
     "text": [
      "Pretty printing has been turned ON\n"
     ]
    }
   ],
   "source": [
    "import pandas as pd  \n",
    "from tqdm import tqdm  \n",
    "from collections import defaultdict  \n",
    "import math  \n",
    "import warnings\n",
    "warnings.filterwarnings(\"ignore\")\n",
    "%config ZMQInteractiveShell.ast_node_interactivity='all'\n",
    "%pprint"
   ]
  },
  {
   "cell_type": "code",
   "execution_count": 18,
   "metadata": {},
   "outputs": [],
   "source": [
    "train_path = '../data/underexpose_train'  \n",
    "test_path = '../data/underexpose_test'"
   ]
  },
  {
   "cell_type": "code",
   "execution_count": 37,
   "metadata": {},
   "outputs": [],
   "source": [
    "item_feat_train = pd.read_csv(train_path + '/underexpose_item_feat.csv', header=None)  "
   ]
  },
  {
   "cell_type": "code",
   "execution_count": 38,
   "metadata": {},
   "outputs": [
    {
     "data": {
      "text/html": [
       "<div>\n",
       "<style scoped>\n",
       "    .dataframe tbody tr th:only-of-type {\n",
       "        vertical-align: middle;\n",
       "    }\n",
       "\n",
       "    .dataframe tbody tr th {\n",
       "        vertical-align: top;\n",
       "    }\n",
       "\n",
       "    .dataframe thead th {\n",
       "        text-align: right;\n",
       "    }\n",
       "</style>\n",
       "<table border=\"1\" class=\"dataframe\">\n",
       "  <thead>\n",
       "    <tr style=\"text-align: right;\">\n",
       "      <th></th>\n",
       "      <th>0</th>\n",
       "      <th>1</th>\n",
       "      <th>2</th>\n",
       "      <th>3</th>\n",
       "      <th>4</th>\n",
       "      <th>5</th>\n",
       "      <th>6</th>\n",
       "      <th>7</th>\n",
       "      <th>8</th>\n",
       "      <th>9</th>\n",
       "      <th>...</th>\n",
       "      <th>247</th>\n",
       "      <th>248</th>\n",
       "      <th>249</th>\n",
       "      <th>250</th>\n",
       "      <th>251</th>\n",
       "      <th>252</th>\n",
       "      <th>253</th>\n",
       "      <th>254</th>\n",
       "      <th>255</th>\n",
       "      <th>256</th>\n",
       "    </tr>\n",
       "  </thead>\n",
       "  <tbody>\n",
       "    <tr>\n",
       "      <th>0</th>\n",
       "      <td>42844</td>\n",
       "      <td>[4.514945030212402</td>\n",
       "      <td>-2.383720</td>\n",
       "      <td>0.500414</td>\n",
       "      <td>0.407068</td>\n",
       "      <td>-1.995229</td>\n",
       "      <td>0.109078</td>\n",
       "      <td>-0.691775</td>\n",
       "      <td>2.227460</td>\n",
       "      <td>-6.437974</td>\n",
       "      <td>...</td>\n",
       "      <td>-3.374727</td>\n",
       "      <td>-1.506969</td>\n",
       "      <td>-1.820180</td>\n",
       "      <td>-3.024644</td>\n",
       "      <td>0.445263</td>\n",
       "      <td>0.013933</td>\n",
       "      <td>-1.300239</td>\n",
       "      <td>2.759948</td>\n",
       "      <td>2.056171</td>\n",
       "      <td>0.5087034702301025]</td>\n",
       "    </tr>\n",
       "    <tr>\n",
       "      <th>1</th>\n",
       "      <td>67898</td>\n",
       "      <td>[-2.0029051303863525</td>\n",
       "      <td>-0.929881</td>\n",
       "      <td>0.790017</td>\n",
       "      <td>-1.380895</td>\n",
       "      <td>-0.510463</td>\n",
       "      <td>-1.810096</td>\n",
       "      <td>1.363962</td>\n",
       "      <td>0.497401</td>\n",
       "      <td>-4.038903</td>\n",
       "      <td>...</td>\n",
       "      <td>-0.538330</td>\n",
       "      <td>-2.620164</td>\n",
       "      <td>1.277195</td>\n",
       "      <td>0.601015</td>\n",
       "      <td>-0.345312</td>\n",
       "      <td>0.993457</td>\n",
       "      <td>1.351633</td>\n",
       "      <td>2.162675</td>\n",
       "      <td>2.768597</td>\n",
       "      <td>-0.9371970295906067]</td>\n",
       "    </tr>\n",
       "    <tr>\n",
       "      <th>2</th>\n",
       "      <td>66446</td>\n",
       "      <td>[4.221673011779785</td>\n",
       "      <td>-1.497139</td>\n",
       "      <td>1.133570</td>\n",
       "      <td>-2.745607</td>\n",
       "      <td>-4.197045</td>\n",
       "      <td>-0.542392</td>\n",
       "      <td>-1.396256</td>\n",
       "      <td>1.838419</td>\n",
       "      <td>-6.066454</td>\n",
       "      <td>...</td>\n",
       "      <td>-4.582711</td>\n",
       "      <td>-1.056910</td>\n",
       "      <td>-2.568084</td>\n",
       "      <td>-2.038061</td>\n",
       "      <td>2.508719</td>\n",
       "      <td>-0.764789</td>\n",
       "      <td>-0.657116</td>\n",
       "      <td>3.252782</td>\n",
       "      <td>2.687366</td>\n",
       "      <td>0.8443320989608765]</td>\n",
       "    </tr>\n",
       "    <tr>\n",
       "      <th>3</th>\n",
       "      <td>63651</td>\n",
       "      <td>[2.6579699516296387</td>\n",
       "      <td>-0.941863</td>\n",
       "      <td>1.121529</td>\n",
       "      <td>-5.109496</td>\n",
       "      <td>-0.279041</td>\n",
       "      <td>-0.351968</td>\n",
       "      <td>-1.086983</td>\n",
       "      <td>2.703607</td>\n",
       "      <td>-6.494977</td>\n",
       "      <td>...</td>\n",
       "      <td>-0.487683</td>\n",
       "      <td>-1.889119</td>\n",
       "      <td>0.943015</td>\n",
       "      <td>-2.834418</td>\n",
       "      <td>1.633184</td>\n",
       "      <td>2.001801</td>\n",
       "      <td>-2.333152</td>\n",
       "      <td>2.645595</td>\n",
       "      <td>2.280233</td>\n",
       "      <td>-0.6944484114646912]</td>\n",
       "    </tr>\n",
       "    <tr>\n",
       "      <th>4</th>\n",
       "      <td>46824</td>\n",
       "      <td>[3.192194938659668</td>\n",
       "      <td>-1.936676</td>\n",
       "      <td>1.199909</td>\n",
       "      <td>-2.562152</td>\n",
       "      <td>-2.573456</td>\n",
       "      <td>0.575841</td>\n",
       "      <td>-2.358653</td>\n",
       "      <td>1.620844</td>\n",
       "      <td>-4.302936</td>\n",
       "      <td>...</td>\n",
       "      <td>-0.621475</td>\n",
       "      <td>-2.091410</td>\n",
       "      <td>0.501600</td>\n",
       "      <td>-3.083864</td>\n",
       "      <td>-1.060091</td>\n",
       "      <td>2.053600</td>\n",
       "      <td>-2.025008</td>\n",
       "      <td>2.399251</td>\n",
       "      <td>2.562317</td>\n",
       "      <td>0.6941336393356323]</td>\n",
       "    </tr>\n",
       "  </tbody>\n",
       "</table>\n",
       "<p>5 rows × 257 columns</p>\n",
       "</div>"
      ],
      "text/plain": [
       "     0                     1         2         3         4         5    \\\n",
       "0  42844    [4.514945030212402 -2.383720  0.500414  0.407068 -1.995229   \n",
       "1  67898  [-2.0029051303863525 -0.929881  0.790017 -1.380895 -0.510463   \n",
       "2  66446    [4.221673011779785 -1.497139  1.133570 -2.745607 -4.197045   \n",
       "3  63651   [2.6579699516296387 -0.941863  1.121529 -5.109496 -0.279041   \n",
       "4  46824    [3.192194938659668 -1.936676  1.199909 -2.562152 -2.573456   \n",
       "\n",
       "        6         7         8         9    ...       247       248       249  \\\n",
       "0  0.109078 -0.691775  2.227460 -6.437974  ... -3.374727 -1.506969 -1.820180   \n",
       "1 -1.810096  1.363962  0.497401 -4.038903  ... -0.538330 -2.620164  1.277195   \n",
       "2 -0.542392 -1.396256  1.838419 -6.066454  ... -4.582711 -1.056910 -2.568084   \n",
       "3 -0.351968 -1.086983  2.703607 -6.494977  ... -0.487683 -1.889119  0.943015   \n",
       "4  0.575841 -2.358653  1.620844 -4.302936  ... -0.621475 -2.091410  0.501600   \n",
       "\n",
       "        250       251       252       253       254       255  \\\n",
       "0 -3.024644  0.445263  0.013933 -1.300239  2.759948  2.056171   \n",
       "1  0.601015 -0.345312  0.993457  1.351633  2.162675  2.768597   \n",
       "2 -2.038061  2.508719 -0.764789 -0.657116  3.252782  2.687366   \n",
       "3 -2.834418  1.633184  2.001801 -2.333152  2.645595  2.280233   \n",
       "4 -3.083864 -1.060091  2.053600 -2.025008  2.399251  2.562317   \n",
       "\n",
       "                     256  \n",
       "0    0.5087034702301025]  \n",
       "1   -0.9371970295906067]  \n",
       "2    0.8443320989608765]  \n",
       "3   -0.6944484114646912]  \n",
       "4    0.6941336393356323]  \n",
       "\n",
       "[5 rows x 257 columns]"
      ]
     },
     "execution_count": 38,
     "metadata": {},
     "output_type": "execute_result"
    },
    {
     "data": {
      "text/plain": [
       "108916"
      ]
     },
     "execution_count": 38,
     "metadata": {},
     "output_type": "execute_result"
    },
    {
     "data": {
      "text/plain": [
       "Int64Index([  0,   1,   2,   3,   4,   5,   6,   7,   8,   9,\n",
       "            ...\n",
       "            247, 248, 249, 250, 251, 252, 253, 254, 255, 256],\n",
       "           dtype='int64', length=257)"
      ]
     },
     "execution_count": 38,
     "metadata": {},
     "output_type": "execute_result"
    }
   ],
   "source": [
    "item_feat_train.head()\n",
    "item_feat_train.shape[0]\n",
    "item_feat_train.columns"
   ]
  },
  {
   "cell_type": "code",
   "execution_count": 39,
   "metadata": {},
   "outputs": [
    {
     "data": {
      "text/plain": [
       "(108916, 257)"
      ]
     },
     "execution_count": 39,
     "metadata": {},
     "output_type": "execute_result"
    }
   ],
   "source": [
    "item_feat_train.shape"
   ]
  },
  {
   "cell_type": "code",
   "execution_count": null,
   "metadata": {},
   "outputs": [],
   "source": []
  },
  {
   "cell_type": "code",
   "execution_count": 66,
   "metadata": {},
   "outputs": [],
   "source": [
    "z=item_feat_train.loc[:,129:257]"
   ]
  },
  {
   "cell_type": "code",
   "execution_count": 67,
   "metadata": {},
   "outputs": [
    {
     "data": {
      "text/plain": [
       "pandas.core.frame.DataFrame"
      ]
     },
     "execution_count": 67,
     "metadata": {},
     "output_type": "execute_result"
    }
   ],
   "source": [
    "type(z)"
   ]
  },
  {
   "cell_type": "code",
   "execution_count": 68,
   "metadata": {},
   "outputs": [
    {
     "data": {
      "text/plain": [
       "Int64Index([129, 130, 131, 132, 133, 134, 135, 136, 137, 138,\n",
       "            ...\n",
       "            247, 248, 249, 250, 251, 252, 253, 254, 255, 256],\n",
       "           dtype='int64', length=128)"
      ]
     },
     "execution_count": 68,
     "metadata": {},
     "output_type": "execute_result"
    }
   ],
   "source": [
    "z.columns"
   ]
  },
  {
   "cell_type": "code",
   "execution_count": 69,
   "metadata": {},
   "outputs": [
    {
     "data": {
      "text/html": [
       "<div>\n",
       "<style scoped>\n",
       "    .dataframe tbody tr th:only-of-type {\n",
       "        vertical-align: middle;\n",
       "    }\n",
       "\n",
       "    .dataframe tbody tr th {\n",
       "        vertical-align: top;\n",
       "    }\n",
       "\n",
       "    .dataframe thead th {\n",
       "        text-align: right;\n",
       "    }\n",
       "</style>\n",
       "<table border=\"1\" class=\"dataframe\">\n",
       "  <thead>\n",
       "    <tr style=\"text-align: right;\">\n",
       "      <th></th>\n",
       "      <th>129</th>\n",
       "      <th>130</th>\n",
       "      <th>131</th>\n",
       "      <th>132</th>\n",
       "      <th>133</th>\n",
       "      <th>134</th>\n",
       "      <th>135</th>\n",
       "      <th>136</th>\n",
       "      <th>137</th>\n",
       "      <th>138</th>\n",
       "      <th>...</th>\n",
       "      <th>247</th>\n",
       "      <th>248</th>\n",
       "      <th>249</th>\n",
       "      <th>250</th>\n",
       "      <th>251</th>\n",
       "      <th>252</th>\n",
       "      <th>253</th>\n",
       "      <th>254</th>\n",
       "      <th>255</th>\n",
       "      <th>256</th>\n",
       "    </tr>\n",
       "  </thead>\n",
       "  <tbody>\n",
       "    <tr>\n",
       "      <th>0</th>\n",
       "      <td>[-2.8722801208496094</td>\n",
       "      <td>1.458755</td>\n",
       "      <td>2.579013</td>\n",
       "      <td>-1.609747</td>\n",
       "      <td>1.437822</td>\n",
       "      <td>1.387496</td>\n",
       "      <td>0.724999</td>\n",
       "      <td>0.020332</td>\n",
       "      <td>0.312099</td>\n",
       "      <td>-1.999773</td>\n",
       "      <td>...</td>\n",
       "      <td>-3.374727</td>\n",
       "      <td>-1.506969</td>\n",
       "      <td>-1.820180</td>\n",
       "      <td>-3.024644</td>\n",
       "      <td>0.445263</td>\n",
       "      <td>0.013933</td>\n",
       "      <td>-1.300239</td>\n",
       "      <td>2.759948</td>\n",
       "      <td>2.056171</td>\n",
       "      <td>0.5087034702301025]</td>\n",
       "    </tr>\n",
       "    <tr>\n",
       "      <th>1</th>\n",
       "      <td>[-0.07052088528871536</td>\n",
       "      <td>-1.439334</td>\n",
       "      <td>0.772873</td>\n",
       "      <td>-2.348995</td>\n",
       "      <td>-0.235512</td>\n",
       "      <td>-0.870002</td>\n",
       "      <td>-0.542587</td>\n",
       "      <td>1.583197</td>\n",
       "      <td>1.742779</td>\n",
       "      <td>-2.993976</td>\n",
       "      <td>...</td>\n",
       "      <td>-0.538330</td>\n",
       "      <td>-2.620164</td>\n",
       "      <td>1.277195</td>\n",
       "      <td>0.601015</td>\n",
       "      <td>-0.345312</td>\n",
       "      <td>0.993457</td>\n",
       "      <td>1.351633</td>\n",
       "      <td>2.162675</td>\n",
       "      <td>2.768597</td>\n",
       "      <td>-0.9371970295906067]</td>\n",
       "    </tr>\n",
       "    <tr>\n",
       "      <th>2</th>\n",
       "      <td>[-5.18036413192749</td>\n",
       "      <td>-0.388247</td>\n",
       "      <td>-0.036235</td>\n",
       "      <td>-1.851022</td>\n",
       "      <td>1.223854</td>\n",
       "      <td>1.996782</td>\n",
       "      <td>0.794044</td>\n",
       "      <td>-0.290748</td>\n",
       "      <td>0.393296</td>\n",
       "      <td>-1.103014</td>\n",
       "      <td>...</td>\n",
       "      <td>-4.582711</td>\n",
       "      <td>-1.056910</td>\n",
       "      <td>-2.568084</td>\n",
       "      <td>-2.038061</td>\n",
       "      <td>2.508719</td>\n",
       "      <td>-0.764789</td>\n",
       "      <td>-0.657116</td>\n",
       "      <td>3.252782</td>\n",
       "      <td>2.687366</td>\n",
       "      <td>0.8443320989608765]</td>\n",
       "    </tr>\n",
       "    <tr>\n",
       "      <th>3</th>\n",
       "      <td>[-1.077273964881897</td>\n",
       "      <td>2.839453</td>\n",
       "      <td>1.183431</td>\n",
       "      <td>-1.098712</td>\n",
       "      <td>0.900597</td>\n",
       "      <td>1.422248</td>\n",
       "      <td>0.109828</td>\n",
       "      <td>-3.770131</td>\n",
       "      <td>0.138226</td>\n",
       "      <td>-3.430403</td>\n",
       "      <td>...</td>\n",
       "      <td>-0.487683</td>\n",
       "      <td>-1.889119</td>\n",
       "      <td>0.943015</td>\n",
       "      <td>-2.834418</td>\n",
       "      <td>1.633184</td>\n",
       "      <td>2.001801</td>\n",
       "      <td>-2.333152</td>\n",
       "      <td>2.645595</td>\n",
       "      <td>2.280233</td>\n",
       "      <td>-0.6944484114646912]</td>\n",
       "    </tr>\n",
       "    <tr>\n",
       "      <th>4</th>\n",
       "      <td>[-3.2601945400238037</td>\n",
       "      <td>0.498890</td>\n",
       "      <td>2.583143</td>\n",
       "      <td>-2.551381</td>\n",
       "      <td>1.466517</td>\n",
       "      <td>-0.195634</td>\n",
       "      <td>1.273064</td>\n",
       "      <td>0.444346</td>\n",
       "      <td>1.911644</td>\n",
       "      <td>-1.864195</td>\n",
       "      <td>...</td>\n",
       "      <td>-0.621475</td>\n",
       "      <td>-2.091410</td>\n",
       "      <td>0.501600</td>\n",
       "      <td>-3.083864</td>\n",
       "      <td>-1.060091</td>\n",
       "      <td>2.053600</td>\n",
       "      <td>-2.025008</td>\n",
       "      <td>2.399251</td>\n",
       "      <td>2.562317</td>\n",
       "      <td>0.6941336393356323]</td>\n",
       "    </tr>\n",
       "  </tbody>\n",
       "</table>\n",
       "<p>5 rows × 128 columns</p>\n",
       "</div>"
      ],
      "text/plain": [
       "                     129       130       131       132       133       134  \\\n",
       "0   [-2.8722801208496094  1.458755  2.579013 -1.609747  1.437822  1.387496   \n",
       "1  [-0.07052088528871536 -1.439334  0.772873 -2.348995 -0.235512 -0.870002   \n",
       "2     [-5.18036413192749 -0.388247 -0.036235 -1.851022  1.223854  1.996782   \n",
       "3    [-1.077273964881897  2.839453  1.183431 -1.098712  0.900597  1.422248   \n",
       "4   [-3.2601945400238037  0.498890  2.583143 -2.551381  1.466517 -0.195634   \n",
       "\n",
       "        135       136       137       138  ...       247       248       249  \\\n",
       "0  0.724999  0.020332  0.312099 -1.999773  ... -3.374727 -1.506969 -1.820180   \n",
       "1 -0.542587  1.583197  1.742779 -2.993976  ... -0.538330 -2.620164  1.277195   \n",
       "2  0.794044 -0.290748  0.393296 -1.103014  ... -4.582711 -1.056910 -2.568084   \n",
       "3  0.109828 -3.770131  0.138226 -3.430403  ... -0.487683 -1.889119  0.943015   \n",
       "4  1.273064  0.444346  1.911644 -1.864195  ... -0.621475 -2.091410  0.501600   \n",
       "\n",
       "        250       251       252       253       254       255  \\\n",
       "0 -3.024644  0.445263  0.013933 -1.300239  2.759948  2.056171   \n",
       "1  0.601015 -0.345312  0.993457  1.351633  2.162675  2.768597   \n",
       "2 -2.038061  2.508719 -0.764789 -0.657116  3.252782  2.687366   \n",
       "3 -2.834418  1.633184  2.001801 -2.333152  2.645595  2.280233   \n",
       "4 -3.083864 -1.060091  2.053600 -2.025008  2.399251  2.562317   \n",
       "\n",
       "                     256  \n",
       "0    0.5087034702301025]  \n",
       "1   -0.9371970295906067]  \n",
       "2    0.8443320989608765]  \n",
       "3   -0.6944484114646912]  \n",
       "4    0.6941336393356323]  \n",
       "\n",
       "[5 rows x 128 columns]"
      ]
     },
     "execution_count": 69,
     "metadata": {},
     "output_type": "execute_result"
    }
   ],
   "source": [
    "z.head()"
   ]
  },
  {
   "cell_type": "code",
   "execution_count": 70,
   "metadata": {},
   "outputs": [],
   "source": [
    "z[129]=z[129].apply(lambda x: x[1:])"
   ]
  },
  {
   "cell_type": "code",
   "execution_count": 71,
   "metadata": {},
   "outputs": [],
   "source": [
    "z[256]=z[256].apply(lambda x: x[:-1])"
   ]
  },
  {
   "cell_type": "code",
   "execution_count": 72,
   "metadata": {},
   "outputs": [
    {
     "data": {
      "text/html": [
       "<div>\n",
       "<style scoped>\n",
       "    .dataframe tbody tr th:only-of-type {\n",
       "        vertical-align: middle;\n",
       "    }\n",
       "\n",
       "    .dataframe tbody tr th {\n",
       "        vertical-align: top;\n",
       "    }\n",
       "\n",
       "    .dataframe thead th {\n",
       "        text-align: right;\n",
       "    }\n",
       "</style>\n",
       "<table border=\"1\" class=\"dataframe\">\n",
       "  <thead>\n",
       "    <tr style=\"text-align: right;\">\n",
       "      <th></th>\n",
       "      <th>129</th>\n",
       "      <th>130</th>\n",
       "      <th>131</th>\n",
       "      <th>132</th>\n",
       "      <th>133</th>\n",
       "      <th>134</th>\n",
       "      <th>135</th>\n",
       "      <th>136</th>\n",
       "      <th>137</th>\n",
       "      <th>138</th>\n",
       "      <th>...</th>\n",
       "      <th>247</th>\n",
       "      <th>248</th>\n",
       "      <th>249</th>\n",
       "      <th>250</th>\n",
       "      <th>251</th>\n",
       "      <th>252</th>\n",
       "      <th>253</th>\n",
       "      <th>254</th>\n",
       "      <th>255</th>\n",
       "      <th>256</th>\n",
       "    </tr>\n",
       "  </thead>\n",
       "  <tbody>\n",
       "    <tr>\n",
       "      <th>0</th>\n",
       "      <td>-2.8722801208496094</td>\n",
       "      <td>1.458755</td>\n",
       "      <td>2.579013</td>\n",
       "      <td>-1.609747</td>\n",
       "      <td>1.437822</td>\n",
       "      <td>1.387496</td>\n",
       "      <td>0.724999</td>\n",
       "      <td>0.020332</td>\n",
       "      <td>0.312099</td>\n",
       "      <td>-1.999773</td>\n",
       "      <td>...</td>\n",
       "      <td>-3.374727</td>\n",
       "      <td>-1.506969</td>\n",
       "      <td>-1.820180</td>\n",
       "      <td>-3.024644</td>\n",
       "      <td>0.445263</td>\n",
       "      <td>0.013933</td>\n",
       "      <td>-1.300239</td>\n",
       "      <td>2.759948</td>\n",
       "      <td>2.056171</td>\n",
       "      <td>0.5087034702301025</td>\n",
       "    </tr>\n",
       "    <tr>\n",
       "      <th>1</th>\n",
       "      <td>-0.07052088528871536</td>\n",
       "      <td>-1.439334</td>\n",
       "      <td>0.772873</td>\n",
       "      <td>-2.348995</td>\n",
       "      <td>-0.235512</td>\n",
       "      <td>-0.870002</td>\n",
       "      <td>-0.542587</td>\n",
       "      <td>1.583197</td>\n",
       "      <td>1.742779</td>\n",
       "      <td>-2.993976</td>\n",
       "      <td>...</td>\n",
       "      <td>-0.538330</td>\n",
       "      <td>-2.620164</td>\n",
       "      <td>1.277195</td>\n",
       "      <td>0.601015</td>\n",
       "      <td>-0.345312</td>\n",
       "      <td>0.993457</td>\n",
       "      <td>1.351633</td>\n",
       "      <td>2.162675</td>\n",
       "      <td>2.768597</td>\n",
       "      <td>-0.9371970295906067</td>\n",
       "    </tr>\n",
       "    <tr>\n",
       "      <th>2</th>\n",
       "      <td>-5.18036413192749</td>\n",
       "      <td>-0.388247</td>\n",
       "      <td>-0.036235</td>\n",
       "      <td>-1.851022</td>\n",
       "      <td>1.223854</td>\n",
       "      <td>1.996782</td>\n",
       "      <td>0.794044</td>\n",
       "      <td>-0.290748</td>\n",
       "      <td>0.393296</td>\n",
       "      <td>-1.103014</td>\n",
       "      <td>...</td>\n",
       "      <td>-4.582711</td>\n",
       "      <td>-1.056910</td>\n",
       "      <td>-2.568084</td>\n",
       "      <td>-2.038061</td>\n",
       "      <td>2.508719</td>\n",
       "      <td>-0.764789</td>\n",
       "      <td>-0.657116</td>\n",
       "      <td>3.252782</td>\n",
       "      <td>2.687366</td>\n",
       "      <td>0.8443320989608765</td>\n",
       "    </tr>\n",
       "    <tr>\n",
       "      <th>3</th>\n",
       "      <td>-1.077273964881897</td>\n",
       "      <td>2.839453</td>\n",
       "      <td>1.183431</td>\n",
       "      <td>-1.098712</td>\n",
       "      <td>0.900597</td>\n",
       "      <td>1.422248</td>\n",
       "      <td>0.109828</td>\n",
       "      <td>-3.770131</td>\n",
       "      <td>0.138226</td>\n",
       "      <td>-3.430403</td>\n",
       "      <td>...</td>\n",
       "      <td>-0.487683</td>\n",
       "      <td>-1.889119</td>\n",
       "      <td>0.943015</td>\n",
       "      <td>-2.834418</td>\n",
       "      <td>1.633184</td>\n",
       "      <td>2.001801</td>\n",
       "      <td>-2.333152</td>\n",
       "      <td>2.645595</td>\n",
       "      <td>2.280233</td>\n",
       "      <td>-0.6944484114646912</td>\n",
       "    </tr>\n",
       "    <tr>\n",
       "      <th>4</th>\n",
       "      <td>-3.2601945400238037</td>\n",
       "      <td>0.498890</td>\n",
       "      <td>2.583143</td>\n",
       "      <td>-2.551381</td>\n",
       "      <td>1.466517</td>\n",
       "      <td>-0.195634</td>\n",
       "      <td>1.273064</td>\n",
       "      <td>0.444346</td>\n",
       "      <td>1.911644</td>\n",
       "      <td>-1.864195</td>\n",
       "      <td>...</td>\n",
       "      <td>-0.621475</td>\n",
       "      <td>-2.091410</td>\n",
       "      <td>0.501600</td>\n",
       "      <td>-3.083864</td>\n",
       "      <td>-1.060091</td>\n",
       "      <td>2.053600</td>\n",
       "      <td>-2.025008</td>\n",
       "      <td>2.399251</td>\n",
       "      <td>2.562317</td>\n",
       "      <td>0.6941336393356323</td>\n",
       "    </tr>\n",
       "  </tbody>\n",
       "</table>\n",
       "<p>5 rows × 128 columns</p>\n",
       "</div>"
      ],
      "text/plain": [
       "                    129       130       131       132       133       134  \\\n",
       "0   -2.8722801208496094  1.458755  2.579013 -1.609747  1.437822  1.387496   \n",
       "1  -0.07052088528871536 -1.439334  0.772873 -2.348995 -0.235512 -0.870002   \n",
       "2     -5.18036413192749 -0.388247 -0.036235 -1.851022  1.223854  1.996782   \n",
       "3    -1.077273964881897  2.839453  1.183431 -1.098712  0.900597  1.422248   \n",
       "4   -3.2601945400238037  0.498890  2.583143 -2.551381  1.466517 -0.195634   \n",
       "\n",
       "        135       136       137       138  ...       247       248       249  \\\n",
       "0  0.724999  0.020332  0.312099 -1.999773  ... -3.374727 -1.506969 -1.820180   \n",
       "1 -0.542587  1.583197  1.742779 -2.993976  ... -0.538330 -2.620164  1.277195   \n",
       "2  0.794044 -0.290748  0.393296 -1.103014  ... -4.582711 -1.056910 -2.568084   \n",
       "3  0.109828 -3.770131  0.138226 -3.430403  ... -0.487683 -1.889119  0.943015   \n",
       "4  1.273064  0.444346  1.911644 -1.864195  ... -0.621475 -2.091410  0.501600   \n",
       "\n",
       "        250       251       252       253       254       255  \\\n",
       "0 -3.024644  0.445263  0.013933 -1.300239  2.759948  2.056171   \n",
       "1  0.601015 -0.345312  0.993457  1.351633  2.162675  2.768597   \n",
       "2 -2.038061  2.508719 -0.764789 -0.657116  3.252782  2.687366   \n",
       "3 -2.834418  1.633184  2.001801 -2.333152  2.645595  2.280233   \n",
       "4 -3.083864 -1.060091  2.053600 -2.025008  2.399251  2.562317   \n",
       "\n",
       "                    256  \n",
       "0    0.5087034702301025  \n",
       "1   -0.9371970295906067  \n",
       "2    0.8443320989608765  \n",
       "3   -0.6944484114646912  \n",
       "4    0.6941336393356323  \n",
       "\n",
       "[5 rows x 128 columns]"
      ]
     },
     "execution_count": 72,
     "metadata": {},
     "output_type": "execute_result"
    }
   ],
   "source": [
    "z.head()"
   ]
  },
  {
   "cell_type": "code",
   "execution_count": 65,
   "metadata": {},
   "outputs": [
    {
     "data": {
      "text/plain": [
       "' -0.937197029590606'"
      ]
     },
     "execution_count": 65,
     "metadata": {},
     "output_type": "execute_result"
    }
   ],
   "source": [
    "import matplotlib.pyplot as pyplot \n"
   ]
  },
  {
   "cell_type": "code",
   "execution_count": 73,
   "metadata": {},
   "outputs": [],
   "source": [
    "oneimg=z.loc[1:,:]"
   ]
  },
  {
   "cell_type": "code",
   "execution_count": 75,
   "metadata": {},
   "outputs": [],
   "source": [
    "np=z.values"
   ]
  },
  {
   "cell_type": "code",
   "execution_count": 76,
   "metadata": {},
   "outputs": [
    {
     "data": {
      "text/plain": [
       "array([['-2.8722801208496094', 1.4587551355361938, 2.579012632369995,\n",
       "        ..., 2.759948492050171, 2.056171178817749, ' 0.5087034702301025'],\n",
       "       ['-0.07052088528871536', -1.4393335580825806, 0.772872805595398,\n",
       "        ..., 2.1626746654510502, 2.76859712600708,\n",
       "        ' -0.9371970295906067'],\n",
       "       ['-5.18036413192749', -0.38824713230133057, -0.03623542934656143,\n",
       "        ..., 3.252781629562378, 2.687366485595703, ' 0.8443320989608765'],\n",
       "       ...,\n",
       "       ['-1.8863677978515625', 0.2406638264656067, -0.4176310896873474,\n",
       "        ..., 2.821835994720459, 3.2856898307800293,\n",
       "        ' 2.2152724266052246'],\n",
       "       ['-2.6400721073150635', 1.0721999406814575, 1.5146057605743408,\n",
       "        ..., 1.908586263656616, 1.8877874612808228,\n",
       "        ' 1.0216277837753296'],\n",
       "       ['-1.1794008016586304', -0.6624383926391602, 1.3874021768569946,\n",
       "        ..., 3.2780487537384038, 3.225166320800781,\n",
       "        ' -1.0926690101623535']], dtype=object)"
      ]
     },
     "execution_count": 76,
     "metadata": {},
     "output_type": "execute_result"
    }
   ],
   "source": [
    "np"
   ]
  },
  {
   "cell_type": "code",
   "execution_count": 77,
   "metadata": {},
   "outputs": [
    {
     "ename": "TypeError",
     "evalue": "'int' object is not callable",
     "output_type": "error",
     "traceback": [
      "\u001b[1;31m---------------------------------------------------------------------------\u001b[0m",
      "\u001b[1;31mTypeError\u001b[0m                                 Traceback (most recent call last)",
      "\u001b[1;32m<ipython-input-77-5a4b3537543e>\u001b[0m in \u001b[0;36m<module>\u001b[1;34m\u001b[0m\n\u001b[1;32m----> 1\u001b[1;33m \u001b[0mnp\u001b[0m\u001b[1;33m.\u001b[0m\u001b[0msize\u001b[0m\u001b[1;33m(\u001b[0m\u001b[1;33m)\u001b[0m\u001b[1;33m\u001b[0m\u001b[1;33m\u001b[0m\u001b[0m\n\u001b[0m",
      "\u001b[1;31mTypeError\u001b[0m: 'int' object is not callable"
     ]
    }
   ],
   "source": [
    "np.size()"
   ]
  },
  {
   "cell_type": "code",
   "execution_count": 74,
   "metadata": {},
   "outputs": [
    {
     "ename": "NameError",
     "evalue": "name 'arr' is not defined",
     "output_type": "error",
     "traceback": [
      "\u001b[1;31m---------------------------------------------------------------------------\u001b[0m",
      "\u001b[1;31mNameError\u001b[0m                                 Traceback (most recent call last)",
      "\u001b[1;32m<ipython-input-74-6454d33afb97>\u001b[0m in \u001b[0;36m<module>\u001b[1;34m\u001b[0m\n\u001b[1;32m----> 1\u001b[1;33m \u001b[0marr\u001b[0m\u001b[1;33m=\u001b[0m\u001b[0marr\u001b[0m\u001b[1;33m.\u001b[0m\u001b[0mreshape\u001b[0m\u001b[1;33m(\u001b[0m\u001b[0moneimg\u001b[0m\u001b[1;33m,\u001b[0m\u001b[1;36m2\u001b[0m\u001b[1;33m,\u001b[0m\u001b[1;36m8\u001b[0m\u001b[1;33m,\u001b[0m\u001b[1;36m8\u001b[0m\u001b[1;33m)\u001b[0m\u001b[1;33m\u001b[0m\u001b[1;33m\u001b[0m\u001b[0m\n\u001b[0m\u001b[0;32m      2\u001b[0m \u001b[0mpyplot\u001b[0m\u001b[1;33m.\u001b[0m\u001b[0mimshow\u001b[0m\u001b[1;33m(\u001b[0m\u001b[0mim_mask\u001b[0m\u001b[1;33m)\u001b[0m\u001b[1;33m\u001b[0m\u001b[1;33m\u001b[0m\u001b[0m\n",
      "\u001b[1;31mNameError\u001b[0m: name 'arr' is not defined"
     ]
    }
   ],
   "source": [
    "arr=arr.reshape(oneimg,2,8,8)\n",
    "pyplot.imshow(im_mask)"
   ]
  },
  {
   "cell_type": "code",
   "execution_count": 23,
   "metadata": {},
   "outputs": [
    {
     "data": {
      "text/html": [
       "<div>\n",
       "<style scoped>\n",
       "    .dataframe tbody tr th:only-of-type {\n",
       "        vertical-align: middle;\n",
       "    }\n",
       "\n",
       "    .dataframe tbody tr th {\n",
       "        vertical-align: top;\n",
       "    }\n",
       "\n",
       "    .dataframe thead th {\n",
       "        text-align: right;\n",
       "    }\n",
       "</style>\n",
       "<table border=\"1\" class=\"dataframe\">\n",
       "  <thead>\n",
       "    <tr style=\"text-align: right;\">\n",
       "      <th></th>\n",
       "      <th>user_id</th>\n",
       "      <th>item_id</th>\n",
       "      <th>time</th>\n",
       "    </tr>\n",
       "  </thead>\n",
       "  <tbody>\n",
       "    <tr>\n",
       "      <th>0</th>\n",
       "      <td>1133</td>\n",
       "      <td>221</td>\n",
       "      <td>0.983812</td>\n",
       "    </tr>\n",
       "    <tr>\n",
       "      <th>1</th>\n",
       "      <td>17864</td>\n",
       "      <td>253</td>\n",
       "      <td>0.983783</td>\n",
       "    </tr>\n",
       "    <tr>\n",
       "      <th>2</th>\n",
       "      <td>6941</td>\n",
       "      <td>309</td>\n",
       "      <td>0.983785</td>\n",
       "    </tr>\n",
       "    <tr>\n",
       "      <th>3</th>\n",
       "      <td>34089</td>\n",
       "      <td>358</td>\n",
       "      <td>0.983781</td>\n",
       "    </tr>\n",
       "    <tr>\n",
       "      <th>4</th>\n",
       "      <td>21659</td>\n",
       "      <td>536</td>\n",
       "      <td>0.983793</td>\n",
       "    </tr>\n",
       "  </tbody>\n",
       "</table>\n",
       "</div>"
      ],
      "text/plain": [
       "   user_id  item_id      time\n",
       "0     1133      221  0.983812\n",
       "1    17864      253  0.983783\n",
       "2     6941      309  0.983785\n",
       "3    34089      358  0.983781\n",
       "4    21659      536  0.983793"
      ]
     },
     "execution_count": 23,
     "metadata": {},
     "output_type": "execute_result"
    },
    {
     "data": {
      "text/plain": [
       "21216"
      ]
     },
     "execution_count": 23,
     "metadata": {},
     "output_type": "execute_result"
    },
    {
     "name": "stdout",
     "output_type": "stream",
     "text": [
      "<class 'pandas.core.frame.DataFrame'>\n",
      "RangeIndex: 21216 entries, 0 to 21215\n",
      "Data columns (total 3 columns):\n",
      " #   Column   Non-Null Count  Dtype  \n",
      "---  ------   --------------  -----  \n",
      " 0   user_id  21216 non-null  int64  \n",
      " 1   item_id  21216 non-null  int64  \n",
      " 2   time     21216 non-null  float64\n",
      "dtypes: float64(1), int64(2)\n",
      "memory usage: 497.4 KB\n"
     ]
    }
   ],
   "source": [
    "click_test = pd.read_csv(test_path + '/underexpose_test_click-{}//underexpose_test_click-{}.csv'.format(0,0), header=None,  names=['user_id', 'item_id', 'time'])  \n",
    "click_test.head()\n",
    "click_test.shape[0]\n",
    "click_test.info()"
   ]
  },
  {
   "cell_type": "code",
   "execution_count": 24,
   "metadata": {},
   "outputs": [],
   "source": [
    "all_click = click_train.append(click_test) "
   ]
  },
  {
   "cell_type": "code",
   "execution_count": 26,
   "metadata": {},
   "outputs": [
    {
     "data": {
      "text/html": [
       "<div>\n",
       "<style scoped>\n",
       "    .dataframe tbody tr th:only-of-type {\n",
       "        vertical-align: middle;\n",
       "    }\n",
       "\n",
       "    .dataframe tbody tr th {\n",
       "        vertical-align: top;\n",
       "    }\n",
       "\n",
       "    .dataframe thead th {\n",
       "        text-align: right;\n",
       "    }\n",
       "</style>\n",
       "<table border=\"1\" class=\"dataframe\">\n",
       "  <thead>\n",
       "    <tr style=\"text-align: right;\">\n",
       "      <th></th>\n",
       "      <th>user_id</th>\n",
       "      <th>item_id</th>\n",
       "      <th>time</th>\n",
       "    </tr>\n",
       "  </thead>\n",
       "  <tbody>\n",
       "    <tr>\n",
       "      <th>0</th>\n",
       "      <td>4965</td>\n",
       "      <td>18</td>\n",
       "      <td>0.983763</td>\n",
       "    </tr>\n",
       "    <tr>\n",
       "      <th>1</th>\n",
       "      <td>20192</td>\n",
       "      <td>34</td>\n",
       "      <td>0.983772</td>\n",
       "    </tr>\n",
       "    <tr>\n",
       "      <th>2</th>\n",
       "      <td>30128</td>\n",
       "      <td>91</td>\n",
       "      <td>0.983780</td>\n",
       "    </tr>\n",
       "    <tr>\n",
       "      <th>3</th>\n",
       "      <td>29473</td>\n",
       "      <td>189</td>\n",
       "      <td>0.983930</td>\n",
       "    </tr>\n",
       "    <tr>\n",
       "      <th>4</th>\n",
       "      <td>10625</td>\n",
       "      <td>225</td>\n",
       "      <td>0.983925</td>\n",
       "    </tr>\n",
       "  </tbody>\n",
       "</table>\n",
       "</div>"
      ],
      "text/plain": [
       "   user_id  item_id      time\n",
       "0     4965       18  0.983763\n",
       "1    20192       34  0.983772\n",
       "2    30128       91  0.983780\n",
       "3    29473      189  0.983930\n",
       "4    10625      225  0.983925"
      ]
     },
     "execution_count": 26,
     "metadata": {},
     "output_type": "execute_result"
    },
    {
     "data": {
      "text/plain": [
       "263000"
      ]
     },
     "execution_count": 26,
     "metadata": {},
     "output_type": "execute_result"
    }
   ],
   "source": [
    "all_click.head()\n",
    "all_click.shape[0]"
   ]
  },
  {
   "cell_type": "code",
   "execution_count": 27,
   "metadata": {},
   "outputs": [],
   "source": [
    "whole_click = pd.DataFrame() "
   ]
  },
  {
   "cell_type": "code",
   "execution_count": 28,
   "metadata": {},
   "outputs": [],
   "source": [
    "whole_click = whole_click.append(all_click)  "
   ]
  },
  {
   "cell_type": "code",
   "execution_count": 29,
   "metadata": {},
   "outputs": [
    {
     "data": {
      "text/plain": [
       "263000"
      ]
     },
     "execution_count": 29,
     "metadata": {},
     "output_type": "execute_result"
    }
   ],
   "source": [
    "whole_click.shape[0]"
   ]
  },
  {
   "cell_type": "code",
   "execution_count": 30,
   "metadata": {},
   "outputs": [],
   "source": [
    "user_item_1 = whole_click.groupby('user_id')['item_id'].agg(set).reset_index()  "
   ]
  },
  {
   "cell_type": "code",
   "execution_count": 32,
   "metadata": {},
   "outputs": [
    {
     "data": {
      "text/plain": [
       "18505"
      ]
     },
     "execution_count": 32,
     "metadata": {},
     "output_type": "execute_result"
    },
    {
     "data": {
      "text/html": [
       "<div>\n",
       "<style scoped>\n",
       "    .dataframe tbody tr th:only-of-type {\n",
       "        vertical-align: middle;\n",
       "    }\n",
       "\n",
       "    .dataframe tbody tr th {\n",
       "        vertical-align: top;\n",
       "    }\n",
       "\n",
       "    .dataframe thead th {\n",
       "        text-align: right;\n",
       "    }\n",
       "</style>\n",
       "<table border=\"1\" class=\"dataframe\">\n",
       "  <thead>\n",
       "    <tr style=\"text-align: right;\">\n",
       "      <th></th>\n",
       "      <th>user_id</th>\n",
       "      <th>item_id</th>\n",
       "    </tr>\n",
       "  </thead>\n",
       "  <tbody>\n",
       "    <tr>\n",
       "      <th>0</th>\n",
       "      <td>1</td>\n",
       "      <td>{89568, 97795, 78380, 87533, 69359, 76240, 314...</td>\n",
       "    </tr>\n",
       "    <tr>\n",
       "      <th>1</th>\n",
       "      <td>2</td>\n",
       "      <td>{7745, 8481, 28099, 4168, 109065, 115561, 7053...</td>\n",
       "    </tr>\n",
       "    <tr>\n",
       "      <th>2</th>\n",
       "      <td>4</td>\n",
       "      <td>{90818, 8291, 13283, 6609, 64404, 35419}</td>\n",
       "    </tr>\n",
       "    <tr>\n",
       "      <th>3</th>\n",
       "      <td>7</td>\n",
       "      <td>{24258, 19110, 6731, 23436, 39291}</td>\n",
       "    </tr>\n",
       "    <tr>\n",
       "      <th>4</th>\n",
       "      <td>9</td>\n",
       "      <td>{30767, 63216, 88371, 109463, 78360, 114268, 1...</td>\n",
       "    </tr>\n",
       "  </tbody>\n",
       "</table>\n",
       "</div>"
      ],
      "text/plain": [
       "   user_id                                            item_id\n",
       "0        1  {89568, 97795, 78380, 87533, 69359, 76240, 314...\n",
       "1        2  {7745, 8481, 28099, 4168, 109065, 115561, 7053...\n",
       "2        4           {90818, 8291, 13283, 6609, 64404, 35419}\n",
       "3        7                 {24258, 19110, 6731, 23436, 39291}\n",
       "4        9  {30767, 63216, 88371, 109463, 78360, 114268, 1..."
      ]
     },
     "execution_count": 32,
     "metadata": {},
     "output_type": "execute_result"
    }
   ],
   "source": [
    "user_item_1.shape[0]\n",
    "user_item_1.head()"
   ]
  },
  {
   "cell_type": "code",
   "execution_count": 33,
   "metadata": {},
   "outputs": [],
   "source": [
    "user_item_dict = dict(zip(user_item_1['user_id'], user_item_1['item_id']))  "
   ]
  },
  {
   "cell_type": "code",
   "execution_count": 35,
   "metadata": {},
   "outputs": [],
   "source": [
    "sim_item = {}  \n",
    "item_cnt = defaultdict(int) \n",
    "use_iif=False"
   ]
  },
  {
   "cell_type": "code",
   "execution_count": null,
   "metadata": {},
   "outputs": [],
   "source": [
    "for user, items in tqdm(user_item_dict.items()):  \n",
    "    for i in items: \n",
    "        item_cnt[i] += 1 \n",
    "        sim_item.setdefault(i,{})\n",
    "        for relate_item in items:\n",
    "            if i ==relate_item:\n",
    "                continue\n",
    "            sim_item[i].setdefault(relate_item,0)\n",
    "            if not use_iif:\n",
    "                sim_item[i][relate_item] += 1 \n",
    "            else:\n",
    "                sim_item[i][relate_item] += 1 / math.log(1 + len(items))  \n",
    "\n",
    "\n",
    "\n",
    "                "
   ]
  },
  {
   "cell_type": "code",
   "execution_count": null,
   "metadata": {},
   "outputs": [],
   "source": [
    " pd.read_csv(test_path + '/underexpose_test_click-{}//underexpose_test_click-{}.csv'.format(0,0), header=None,  names=['user_id', 'item_id', 'time'])  "
   ]
  },
  {
   "cell_type": "code",
   "execution_count": null,
   "metadata": {},
   "outputs": [],
   "source": []
  },
  {
   "cell_type": "code",
   "execution_count": null,
   "metadata": {},
   "outputs": [],
   "source": []
  },
  {
   "cell_type": "code",
   "execution_count": null,
   "metadata": {},
   "outputs": [],
   "source": []
  },
  {
   "cell_type": "code",
   "execution_count": null,
   "metadata": {},
   "outputs": [],
   "source": []
  },
  {
   "cell_type": "code",
   "execution_count": null,
   "metadata": {},
   "outputs": [],
   "source": []
  },
  {
   "cell_type": "code",
   "execution_count": 8,
   "metadata": {},
   "outputs": [],
   "source": [
    "now_phase = 1  "
   ]
  },
  {
   "cell_type": "code",
   "execution_count": null,
   "metadata": {},
   "outputs": [],
   "source": [
    "for c in range(now_phase + 1):\n",
    "    print('phase:', c)  \n",
    "    click_train = pd.read_csv(train_path + '/underexpose_train_click-{}.csv'.format(c), header=None,  names=['user_id', 'item_id', 'time'])  \n",
    "    click_test = pd.read_csv(test_path + '/underexpose_test_click-{}.csv'.format(c), header=None,  names=['user_id', 'item_id', 'time'])  \n",
    "\n",
    "    "
   ]
  }
 ],
 "metadata": {
  "kernelspec": {
   "display_name": "Python 3",
   "language": "python",
   "name": "python3"
  },
  "language_info": {
   "codemirror_mode": {
    "name": "ipython",
    "version": 3
   },
   "file_extension": ".py",
   "mimetype": "text/x-python",
   "name": "python",
   "nbconvert_exporter": "python",
   "pygments_lexer": "ipython3",
   "version": "3.6.10"
  }
 },
 "nbformat": 4,
 "nbformat_minor": 4
}
